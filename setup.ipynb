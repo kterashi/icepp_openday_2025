{
 "nbformat": 4,
 "nbformat_minor": 0,
 "metadata": {
  "colab": {
   "provenance": [],
   "authorship_tag": "ABX9TyPAACnj3BV4aOFqidNnnKE0",
   "include_colab_link": true
  },
  "kernelspec": {
   "name": "python3",
   "display_name": "Python 3"
  },
  "language_info": {
   "name": "python"
  }
 },
 "cells": [
  {
   "cell_type": "markdown",
   "metadata": {
    "id": "view-in-github",
    "colab_type": "text"
   },
   "source": [
    "<a href=\"https://colab.research.google.com/github/yiiyama/qc-workbook-lecturenotes/blob/branch-2024/setup.ipynb\" target=\"_parent\"><img src=\"https://colab.research.google.com/assets/colab-badge.svg\" alt=\"Open In Colab\"/></a>"
   ]
  },
  {
   "cell_type": "markdown",
   "source": [
    "# 環境整備"
   ],
   "metadata": {
    "id": "eCdfP6jD5buu"
   }
  },
  {
   "cell_type": "markdown",
   "source": [
    "## Qiskitと関連ライブラリのインストール\n",
    "\n",
    "Google Colabではノートブックファイルを開くたびに全く新しい実行環境が提供されるので、そのままではQiskitなど量子計算用のライブラリが使えません。毎回インストールしてもいいですが、一度個人のGoogle Drive上にライブラリファイルをコピーしておき、以降はそのファイルを参照することにしましょう。"
   ],
   "metadata": {
    "id": "yJqS5IMc5glb"
   }
  },
  {
   "cell_type": "markdown",
   "source": [
    "セルを実行すると、Google Driveへのアクセス許可についてのポップアップが現れます。Driveを利用したいアカウントを選択し、全ての項目に関してアクセスを許可するとドライブのストレージがこのノートブックから利用できるようになります。"
   ],
   "metadata": {
    "collapsed": false
   }
  },
  {
   "cell_type": "code",
   "source": [
    "import os\n",
    "import sys\n",
    "import tarfile\n",
    "import shutil\n",
    "sys.path.append('/root/.local/lib/python3.11/site-packages')\n",
    "from google.colab import drive\n",
    "drive.mount('/content/gdrive')"
   ],
   "metadata": {
    "id": "Rxnx8o3Y6Sld"
   },
   "execution_count": null,
   "outputs": []
  },
  {
   "cell_type": "code",
   "source": [
    "!pip install --user qiskit qiskit-ibm-runtime pylatexenc"
   ],
   "metadata": {
    "id": "RhKTT8cw7ULp"
   },
   "execution_count": null,
   "outputs": []
  },
  {
   "cell_type": "markdown",
   "source": [
    "ライブラリファイルはひとまとまりの``qcintro.tar.gz``という圧縮ファイルにしてGoogle Drive上に保存します。"
   ],
   "metadata": {
    "id": "wzRnMN7nksyP"
   }
  },
  {
   "cell_type": "code",
   "source": [
    "os.chdir('/root/.local')\n",
    "\n",
    "tarname = 'qcintro.tar.gz'\n",
    "with tarfile.open(tarname, 'w:gz') as tar:\n",
    "    for subdir in ['lib', 'bin']:\n",
    "        tar.add(subdir)\n",
    "\n",
    "shutil.copy(tarname, '/content/gdrive/MyDrive')"
   ],
   "metadata": {
    "id": "i61ZyqNqeHTJ"
   },
   "execution_count": null,
   "outputs": []
  },
  {
   "cell_type": "markdown",
   "source": [
    "## IBM Quantumの量子コンピュータを使うための初期設定\n",
    "\n",
    "下のセルで、２箇所変更する必要があります。\n",
    "\n",
    "1. 下のセルの``__your_token__``を、前にコピーしておいたAPI keyを使って置き換える。\n",
    "2. 下のセルの``__your_instance__``を、前にコピーしておいたインスタンス（test_chsh_inequality）のCRNを使って置き換える。\n",
    "\n",
    "変更後にセルを実行すると、My Driveの直下に``qiskit-ibm.json``というファイルが書かれ、トークン情報が保存されます。"
   ],
   "metadata": {
    "id": "cjNL7h_rwkpE"
   }
  },
  {
   "cell_type": "code",
   "execution_count": null,
   "metadata": {
    "id": "DqshVuDSwTSF"
   },
   "outputs": [],
   "source": [
    "from qiskit_ibm_runtime import QiskitRuntimeService\n",
    "QiskitRuntimeService.save_account(channel='ibm_cloud', \n",
    "                                  token='__your_token__',\n",
    "                                  instance='__your_instance__',\n",
    "                                  filename='/content/gdrive/MyDrive/qiskit-ibm.json')"
   ]
  }
 ]
}
